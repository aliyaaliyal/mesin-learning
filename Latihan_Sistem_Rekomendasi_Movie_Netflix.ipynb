{
  "cells": [
    {
      "cell_type": "markdown",
      "metadata": {
        "id": "view-in-github",
        "colab_type": "text"
      },
      "source": [
        "<a href=\"https://colab.research.google.com/github/aliyaaliyal/mesin-learning/blob/main/Latihan_Sistem_Rekomendasi_Movie_Netflix.ipynb\" target=\"_parent\"><img src=\"https://colab.research.google.com/assets/colab-badge.svg\" alt=\"Open In Colab\"/></a>"
      ]
    },
    {
      "cell_type": "markdown",
      "metadata": {
        "id": "JC7BPZ8DFq-w"
      },
      "source": [
        "# Demonstrasi 1: Contoh Sistem Rekomendasi\n",
        "\n",
        "Dataset yang digunakan pada project ini merupakan dataset [Netflix Movies and TV Shows](https://www.kaggle.com/shivamb/netflix-shows)\n",
        "\n",
        "Tujuan dari proyek ini adalah untuk membuat sistem rekomendasi yang mampu memberikan rekomendasi film kepada pelanggan."
      ]
    },
    {
      "cell_type": "markdown",
      "metadata": {
        "id": "g55V4UChFq-5"
      },
      "source": [
        "## Menyiapkan Library"
      ]
    },
    {
      "cell_type": "code",
      "execution_count": null,
      "metadata": {
        "id": "o8tpz7L7Fq-7"
      },
      "outputs": [],
      "source": [
        "import pandas as pd\n",
        "from sklearn.feature_extraction.text import CountVectorizer\n",
        "from sklearn.metrics.pairwise import cosine_similarity"
      ]
    },
    {
      "cell_type": "markdown",
      "metadata": {
        "id": "oc7eAkRxFq-9"
      },
      "source": [
        "## Menyiapkan Dataset"
      ]
    },
    {
      "cell_type": "code",
      "execution_count": null,
      "metadata": {
        "id": "queU4v9LFq-_",
        "outputId": "e283c5dc-3891-4962-8203-f8d92993eb24",
        "colab": {
          "base_uri": "https://localhost:8080/",
          "height": 1000
        }
      },
      "outputs": [
        {
          "output_type": "execute_result",
          "data": {
            "text/plain": [
              "     show_id     type                              title      director  \\\n",
              "4269   s4270  TV Show                       Jojo's World           NaN   \n",
              "4667   s4668    Movie               ​​Kuch Bheege Alfaaz          Onir   \n",
              "5591   s5592  TV Show                       Legend Quest           NaN   \n",
              "1326   s1327    Movie                       Squared Love  Filip Zylber   \n",
              "8685   s8686    Movie                                VS.      Ed Lilly   \n",
              "6567   s6568    Movie                     Darna Mana Hai  Prawal Raman   \n",
              "5775   s5776    Movie              Pac's Scary Halloween           NaN   \n",
              "3586   s3587    Movie             The Little Switzerland     Kepa Sojo   \n",
              "5034   s5035    Movie        Agustín Aristarán: Soy Rada  Mariano Baez   \n",
              "715     s716  TV Show  Elite Short Stories: Nadia Guzmán           NaN   \n",
              "\n",
              "                                                   cast         country  \\\n",
              "4269  Tia Lee, In Deok Hwang, Yen-j, Jason Hsu, Andy...          Taiwan   \n",
              "4667  Geetanjali Thapa, Zain Khan Durrani, Shray Rai...           India   \n",
              "5591  Benny Emmanuel, Mayté Cordeiro, Andrés Couturi...          Mexico   \n",
              "1326  Adrianna Chlebicka, Mateusz Banasiuk, Agnieszk...          Poland   \n",
              "8685  Connor Swindells, Fola Evans-Akingbola, Nichol...  United Kingdom   \n",
              "6567  Aftab Shivdasani, Antara Mali, Boman Irani, Is...           India   \n",
              "5775  Erin Mathews, Sam Vincent, Andrea Libman, Ashl...             NaN   \n",
              "3586  Jon Plazaola, Maggie Civantos, Ingrid García J...           Spain   \n",
              "5034                                  Agustín Aristarán       Argentina   \n",
              "715      Mina El Hammani, Miguel Bernardeau, Omar Ayuso             NaN   \n",
              "\n",
              "             date_added  release_year rating  duration  \\\n",
              "4269  December 21, 2018          2017  TV-14  1 Season   \n",
              "4667  September 1, 2018          2018  TV-14   110 min   \n",
              "5591  February 24, 2017          2017  TV-Y7  1 Season   \n",
              "1326  February 11, 2021          2021  TV-14   102 min   \n",
              "8685      June 19, 2019          2018  TV-MA    99 min   \n",
              "6567     August 1, 2019          2003  TV-MA   116 min   \n",
              "5775    October 1, 2016          2016  TV-Y7    44 min   \n",
              "3586    August 16, 2019          2019  TV-MA    86 min   \n",
              "5034  February 16, 2018          2018  TV-MA    60 min   \n",
              "715       June 15, 2021          2021  TV-MA  1 Season   \n",
              "\n",
              "                                              listed_in  \\\n",
              "4269  International TV Shows, Romantic TV Shows, TV ...   \n",
              "4667   Dramas, Independent Movies, International Movies   \n",
              "5591                                           Kids' TV   \n",
              "1326    Comedies, International Movies, Romantic Movies   \n",
              "8685                                             Dramas   \n",
              "6567     Horror Movies, International Movies, Thrillers   \n",
              "5775                                             Movies   \n",
              "3586                     Comedies, International Movies   \n",
              "5034                                    Stand-Up Comedy   \n",
              "715   International TV Shows, Romantic TV Shows, Spa...   \n",
              "\n",
              "                                            description  \n",
              "4269  Diagnosed with a condition that could make her...  \n",
              "4667  After accidentally connecting over the Interne...  \n",
              "5591  When an evil force threatens his village, a gi...  \n",
              "1326  A celebrity journalist and renowned womanizer ...  \n",
              "8685  A young man in foster care finds his voice in ...  \n",
              "6567  Stranded in a jungle when their car breaks dow...  \n",
              "5775  When sinister Dr. Pacenstein schemes to swap b...  \n",
              "3586  The discovery of the tomb of William Tell’s so...  \n",
              "5034  Argentine comedian Agustín \"Radagast\" Aristará...  \n",
              "715   Nadia feels conflicted about whether or not to...  "
            ],
            "text/html": [
              "\n",
              "  <div id=\"df-63af7da1-cdb9-492f-8dbf-e58efc26c555\">\n",
              "    <div class=\"colab-df-container\">\n",
              "      <div>\n",
              "<style scoped>\n",
              "    .dataframe tbody tr th:only-of-type {\n",
              "        vertical-align: middle;\n",
              "    }\n",
              "\n",
              "    .dataframe tbody tr th {\n",
              "        vertical-align: top;\n",
              "    }\n",
              "\n",
              "    .dataframe thead th {\n",
              "        text-align: right;\n",
              "    }\n",
              "</style>\n",
              "<table border=\"1\" class=\"dataframe\">\n",
              "  <thead>\n",
              "    <tr style=\"text-align: right;\">\n",
              "      <th></th>\n",
              "      <th>show_id</th>\n",
              "      <th>type</th>\n",
              "      <th>title</th>\n",
              "      <th>director</th>\n",
              "      <th>cast</th>\n",
              "      <th>country</th>\n",
              "      <th>date_added</th>\n",
              "      <th>release_year</th>\n",
              "      <th>rating</th>\n",
              "      <th>duration</th>\n",
              "      <th>listed_in</th>\n",
              "      <th>description</th>\n",
              "    </tr>\n",
              "  </thead>\n",
              "  <tbody>\n",
              "    <tr>\n",
              "      <th>4269</th>\n",
              "      <td>s4270</td>\n",
              "      <td>TV Show</td>\n",
              "      <td>Jojo's World</td>\n",
              "      <td>NaN</td>\n",
              "      <td>Tia Lee, In Deok Hwang, Yen-j, Jason Hsu, Andy...</td>\n",
              "      <td>Taiwan</td>\n",
              "      <td>December 21, 2018</td>\n",
              "      <td>2017</td>\n",
              "      <td>TV-14</td>\n",
              "      <td>1 Season</td>\n",
              "      <td>International TV Shows, Romantic TV Shows, TV ...</td>\n",
              "      <td>Diagnosed with a condition that could make her...</td>\n",
              "    </tr>\n",
              "    <tr>\n",
              "      <th>4667</th>\n",
              "      <td>s4668</td>\n",
              "      <td>Movie</td>\n",
              "      <td>​​Kuch Bheege Alfaaz</td>\n",
              "      <td>Onir</td>\n",
              "      <td>Geetanjali Thapa, Zain Khan Durrani, Shray Rai...</td>\n",
              "      <td>India</td>\n",
              "      <td>September 1, 2018</td>\n",
              "      <td>2018</td>\n",
              "      <td>TV-14</td>\n",
              "      <td>110 min</td>\n",
              "      <td>Dramas, Independent Movies, International Movies</td>\n",
              "      <td>After accidentally connecting over the Interne...</td>\n",
              "    </tr>\n",
              "    <tr>\n",
              "      <th>5591</th>\n",
              "      <td>s5592</td>\n",
              "      <td>TV Show</td>\n",
              "      <td>Legend Quest</td>\n",
              "      <td>NaN</td>\n",
              "      <td>Benny Emmanuel, Mayté Cordeiro, Andrés Couturi...</td>\n",
              "      <td>Mexico</td>\n",
              "      <td>February 24, 2017</td>\n",
              "      <td>2017</td>\n",
              "      <td>TV-Y7</td>\n",
              "      <td>1 Season</td>\n",
              "      <td>Kids' TV</td>\n",
              "      <td>When an evil force threatens his village, a gi...</td>\n",
              "    </tr>\n",
              "    <tr>\n",
              "      <th>1326</th>\n",
              "      <td>s1327</td>\n",
              "      <td>Movie</td>\n",
              "      <td>Squared Love</td>\n",
              "      <td>Filip Zylber</td>\n",
              "      <td>Adrianna Chlebicka, Mateusz Banasiuk, Agnieszk...</td>\n",
              "      <td>Poland</td>\n",
              "      <td>February 11, 2021</td>\n",
              "      <td>2021</td>\n",
              "      <td>TV-14</td>\n",
              "      <td>102 min</td>\n",
              "      <td>Comedies, International Movies, Romantic Movies</td>\n",
              "      <td>A celebrity journalist and renowned womanizer ...</td>\n",
              "    </tr>\n",
              "    <tr>\n",
              "      <th>8685</th>\n",
              "      <td>s8686</td>\n",
              "      <td>Movie</td>\n",
              "      <td>VS.</td>\n",
              "      <td>Ed Lilly</td>\n",
              "      <td>Connor Swindells, Fola Evans-Akingbola, Nichol...</td>\n",
              "      <td>United Kingdom</td>\n",
              "      <td>June 19, 2019</td>\n",
              "      <td>2018</td>\n",
              "      <td>TV-MA</td>\n",
              "      <td>99 min</td>\n",
              "      <td>Dramas</td>\n",
              "      <td>A young man in foster care finds his voice in ...</td>\n",
              "    </tr>\n",
              "    <tr>\n",
              "      <th>6567</th>\n",
              "      <td>s6568</td>\n",
              "      <td>Movie</td>\n",
              "      <td>Darna Mana Hai</td>\n",
              "      <td>Prawal Raman</td>\n",
              "      <td>Aftab Shivdasani, Antara Mali, Boman Irani, Is...</td>\n",
              "      <td>India</td>\n",
              "      <td>August 1, 2019</td>\n",
              "      <td>2003</td>\n",
              "      <td>TV-MA</td>\n",
              "      <td>116 min</td>\n",
              "      <td>Horror Movies, International Movies, Thrillers</td>\n",
              "      <td>Stranded in a jungle when their car breaks dow...</td>\n",
              "    </tr>\n",
              "    <tr>\n",
              "      <th>5775</th>\n",
              "      <td>s5776</td>\n",
              "      <td>Movie</td>\n",
              "      <td>Pac's Scary Halloween</td>\n",
              "      <td>NaN</td>\n",
              "      <td>Erin Mathews, Sam Vincent, Andrea Libman, Ashl...</td>\n",
              "      <td>NaN</td>\n",
              "      <td>October 1, 2016</td>\n",
              "      <td>2016</td>\n",
              "      <td>TV-Y7</td>\n",
              "      <td>44 min</td>\n",
              "      <td>Movies</td>\n",
              "      <td>When sinister Dr. Pacenstein schemes to swap b...</td>\n",
              "    </tr>\n",
              "    <tr>\n",
              "      <th>3586</th>\n",
              "      <td>s3587</td>\n",
              "      <td>Movie</td>\n",
              "      <td>The Little Switzerland</td>\n",
              "      <td>Kepa Sojo</td>\n",
              "      <td>Jon Plazaola, Maggie Civantos, Ingrid García J...</td>\n",
              "      <td>Spain</td>\n",
              "      <td>August 16, 2019</td>\n",
              "      <td>2019</td>\n",
              "      <td>TV-MA</td>\n",
              "      <td>86 min</td>\n",
              "      <td>Comedies, International Movies</td>\n",
              "      <td>The discovery of the tomb of William Tell’s so...</td>\n",
              "    </tr>\n",
              "    <tr>\n",
              "      <th>5034</th>\n",
              "      <td>s5035</td>\n",
              "      <td>Movie</td>\n",
              "      <td>Agustín Aristarán: Soy Rada</td>\n",
              "      <td>Mariano Baez</td>\n",
              "      <td>Agustín Aristarán</td>\n",
              "      <td>Argentina</td>\n",
              "      <td>February 16, 2018</td>\n",
              "      <td>2018</td>\n",
              "      <td>TV-MA</td>\n",
              "      <td>60 min</td>\n",
              "      <td>Stand-Up Comedy</td>\n",
              "      <td>Argentine comedian Agustín \"Radagast\" Aristará...</td>\n",
              "    </tr>\n",
              "    <tr>\n",
              "      <th>715</th>\n",
              "      <td>s716</td>\n",
              "      <td>TV Show</td>\n",
              "      <td>Elite Short Stories: Nadia Guzmán</td>\n",
              "      <td>NaN</td>\n",
              "      <td>Mina El Hammani, Miguel Bernardeau, Omar Ayuso</td>\n",
              "      <td>NaN</td>\n",
              "      <td>June 15, 2021</td>\n",
              "      <td>2021</td>\n",
              "      <td>TV-MA</td>\n",
              "      <td>1 Season</td>\n",
              "      <td>International TV Shows, Romantic TV Shows, Spa...</td>\n",
              "      <td>Nadia feels conflicted about whether or not to...</td>\n",
              "    </tr>\n",
              "  </tbody>\n",
              "</table>\n",
              "</div>\n",
              "      <button class=\"colab-df-convert\" onclick=\"convertToInteractive('df-63af7da1-cdb9-492f-8dbf-e58efc26c555')\"\n",
              "              title=\"Convert this dataframe to an interactive table.\"\n",
              "              style=\"display:none;\">\n",
              "        \n",
              "  <svg xmlns=\"http://www.w3.org/2000/svg\" height=\"24px\"viewBox=\"0 0 24 24\"\n",
              "       width=\"24px\">\n",
              "    <path d=\"M0 0h24v24H0V0z\" fill=\"none\"/>\n",
              "    <path d=\"M18.56 5.44l.94 2.06.94-2.06 2.06-.94-2.06-.94-.94-2.06-.94 2.06-2.06.94zm-11 1L8.5 8.5l.94-2.06 2.06-.94-2.06-.94L8.5 2.5l-.94 2.06-2.06.94zm10 10l.94 2.06.94-2.06 2.06-.94-2.06-.94-.94-2.06-.94 2.06-2.06.94z\"/><path d=\"M17.41 7.96l-1.37-1.37c-.4-.4-.92-.59-1.43-.59-.52 0-1.04.2-1.43.59L10.3 9.45l-7.72 7.72c-.78.78-.78 2.05 0 2.83L4 21.41c.39.39.9.59 1.41.59.51 0 1.02-.2 1.41-.59l7.78-7.78 2.81-2.81c.8-.78.8-2.07 0-2.86zM5.41 20L4 18.59l7.72-7.72 1.47 1.35L5.41 20z\"/>\n",
              "  </svg>\n",
              "      </button>\n",
              "      \n",
              "  <style>\n",
              "    .colab-df-container {\n",
              "      display:flex;\n",
              "      flex-wrap:wrap;\n",
              "      gap: 12px;\n",
              "    }\n",
              "\n",
              "    .colab-df-convert {\n",
              "      background-color: #E8F0FE;\n",
              "      border: none;\n",
              "      border-radius: 50%;\n",
              "      cursor: pointer;\n",
              "      display: none;\n",
              "      fill: #1967D2;\n",
              "      height: 32px;\n",
              "      padding: 0 0 0 0;\n",
              "      width: 32px;\n",
              "    }\n",
              "\n",
              "    .colab-df-convert:hover {\n",
              "      background-color: #E2EBFA;\n",
              "      box-shadow: 0px 1px 2px rgba(60, 64, 67, 0.3), 0px 1px 3px 1px rgba(60, 64, 67, 0.15);\n",
              "      fill: #174EA6;\n",
              "    }\n",
              "\n",
              "    [theme=dark] .colab-df-convert {\n",
              "      background-color: #3B4455;\n",
              "      fill: #D2E3FC;\n",
              "    }\n",
              "\n",
              "    [theme=dark] .colab-df-convert:hover {\n",
              "      background-color: #434B5C;\n",
              "      box-shadow: 0px 1px 3px 1px rgba(0, 0, 0, 0.15);\n",
              "      filter: drop-shadow(0px 1px 2px rgba(0, 0, 0, 0.3));\n",
              "      fill: #FFFFFF;\n",
              "    }\n",
              "  </style>\n",
              "\n",
              "      <script>\n",
              "        const buttonEl =\n",
              "          document.querySelector('#df-63af7da1-cdb9-492f-8dbf-e58efc26c555 button.colab-df-convert');\n",
              "        buttonEl.style.display =\n",
              "          google.colab.kernel.accessAllowed ? 'block' : 'none';\n",
              "\n",
              "        async function convertToInteractive(key) {\n",
              "          const element = document.querySelector('#df-63af7da1-cdb9-492f-8dbf-e58efc26c555');\n",
              "          const dataTable =\n",
              "            await google.colab.kernel.invokeFunction('convertToInteractive',\n",
              "                                                     [key], {});\n",
              "          if (!dataTable) return;\n",
              "\n",
              "          const docLinkHtml = 'Like what you see? Visit the ' +\n",
              "            '<a target=\"_blank\" href=https://colab.research.google.com/notebooks/data_table.ipynb>data table notebook</a>'\n",
              "            + ' to learn more about interactive tables.';\n",
              "          element.innerHTML = '';\n",
              "          dataTable['output_type'] = 'display_data';\n",
              "          await google.colab.output.renderOutput(dataTable, element);\n",
              "          const docLink = document.createElement('div');\n",
              "          docLink.innerHTML = docLinkHtml;\n",
              "          element.appendChild(docLink);\n",
              "        }\n",
              "      </script>\n",
              "    </div>\n",
              "  </div>\n",
              "  "
            ]
          },
          "metadata": {},
          "execution_count": 3
        }
      ],
      "source": [
        "movie_df = pd.read_csv(\"/content/netflix_titles.csv\")\n",
        "movie_df.sample(10)\n"
      ]
    },
    {
      "cell_type": "markdown",
      "metadata": {
        "id": "35TJgi-MFq_B"
      },
      "source": [
        "Jika diperhatikan pada kolom `listed_in`, `director`, `country` & `cast` memiliki beberapa nilai yang dipisah oleh tanda koma (\",\"), nilai tersebut nantinya akan diubah kedalam bentuk list."
      ]
    },
    {
      "cell_type": "markdown",
      "metadata": {
        "id": "PXI4zo8EFq_C"
      },
      "source": [
        "## Pemahaman Data (Data Understanding)"
      ]
    },
    {
      "cell_type": "markdown",
      "metadata": {
        "id": "VQ_UuKRcFq_D"
      },
      "source": [
        "### Keterangan kolom pada dataset"
      ]
    },
    {
      "cell_type": "code",
      "execution_count": null,
      "metadata": {
        "id": "DWOcXsCXFq_E",
        "outputId": "9a4248fe-ba3f-436d-a6a7-1630252f9f2e",
        "colab": {
          "base_uri": "https://localhost:8080/"
        }
      },
      "outputs": [
        {
          "output_type": "stream",
          "name": "stdout",
          "text": [
            "<class 'pandas.core.frame.DataFrame'>\n",
            "RangeIndex: 8807 entries, 0 to 8806\n",
            "Data columns (total 12 columns):\n",
            " #   Column        Non-Null Count  Dtype \n",
            "---  ------        --------------  ----- \n",
            " 0   show_id       8807 non-null   object\n",
            " 1   type          8807 non-null   object\n",
            " 2   title         8807 non-null   object\n",
            " 3   director      6173 non-null   object\n",
            " 4   cast          7982 non-null   object\n",
            " 5   country       7976 non-null   object\n",
            " 6   date_added    8797 non-null   object\n",
            " 7   release_year  8807 non-null   int64 \n",
            " 8   rating        8803 non-null   object\n",
            " 9   duration      8804 non-null   object\n",
            " 10  listed_in     8807 non-null   object\n",
            " 11  description   8807 non-null   object\n",
            "dtypes: int64(1), object(11)\n",
            "memory usage: 825.8+ KB\n"
          ]
        }
      ],
      "source": [
        "movie_df.info()"
      ]
    },
    {
      "cell_type": "markdown",
      "metadata": {
        "id": "A_xZBuvSFq_F"
      },
      "source": [
        "Berdasarkan hasil tersebut dapat dilihat bahwa terdapat beberapa kolom yang jumlah datanya berbeda, hal ini menunjukkan adanya missing value pada dataset yang kita gunakan."
      ]
    },
    {
      "cell_type": "code",
      "execution_count": null,
      "metadata": {
        "id": "scQyhlD9Fq_G",
        "outputId": "23ac3dca-b1cd-44f4-b114-631d6783d13b",
        "colab": {
          "base_uri": "https://localhost:8080/"
        }
      },
      "outputs": [
        {
          "output_type": "execute_result",
          "data": {
            "text/plain": [
              "True"
            ]
          },
          "metadata": {},
          "execution_count": 5
        }
      ],
      "source": [
        "movie_df['show_id'].is_unique"
      ]
    },
    {
      "cell_type": "markdown",
      "metadata": {
        "id": "pdlxTTjPFq_H"
      },
      "source": [
        "## Memeriksa missing values"
      ]
    },
    {
      "cell_type": "code",
      "execution_count": null,
      "metadata": {
        "id": "G4kpaAE1Fq_H",
        "outputId": "37adfe82-fbfa-4f7b-b6a9-fcb8705864df",
        "colab": {
          "base_uri": "https://localhost:8080/"
        }
      },
      "outputs": [
        {
          "output_type": "execute_result",
          "data": {
            "text/plain": [
              "show_id            0\n",
              "type               0\n",
              "title              0\n",
              "director        2634\n",
              "cast             825\n",
              "country          831\n",
              "date_added        10\n",
              "release_year       0\n",
              "rating             4\n",
              "duration           3\n",
              "listed_in          0\n",
              "description        0\n",
              "dtype: int64"
            ]
          },
          "metadata": {},
          "execution_count": 6
        }
      ],
      "source": [
        "movie_df.isna().sum()"
      ]
    },
    {
      "cell_type": "markdown",
      "metadata": {
        "id": "7EPNyqnjFq_H"
      },
      "source": [
        "Berdsarkan hasil tersebut dapat dilihat bahwa jumlah missing value sangat banyak terutama pada kolom `director`, `cast`, dan `country`."
      ]
    },
    {
      "cell_type": "markdown",
      "metadata": {
        "id": "pBIhWAMkFq_I"
      },
      "source": [
        "### Melihat rangkuman parameter statistik dari data numerik"
      ]
    },
    {
      "cell_type": "code",
      "execution_count": null,
      "metadata": {
        "id": "bdRyUJvkFq_J",
        "outputId": "ba31d365-2bba-4a36-dd0c-dd8f0271eb23",
        "colab": {
          "base_uri": "https://localhost:8080/",
          "height": 300
        }
      },
      "outputs": [
        {
          "output_type": "execute_result",
          "data": {
            "text/plain": [
              "       release_year\n",
              "count   8807.000000\n",
              "mean    2014.180198\n",
              "std        8.819312\n",
              "min     1925.000000\n",
              "25%     2013.000000\n",
              "50%     2017.000000\n",
              "75%     2019.000000\n",
              "max     2021.000000"
            ],
            "text/html": [
              "\n",
              "  <div id=\"df-cd82fadd-a3f3-4025-bcc8-26b6615c24a0\">\n",
              "    <div class=\"colab-df-container\">\n",
              "      <div>\n",
              "<style scoped>\n",
              "    .dataframe tbody tr th:only-of-type {\n",
              "        vertical-align: middle;\n",
              "    }\n",
              "\n",
              "    .dataframe tbody tr th {\n",
              "        vertical-align: top;\n",
              "    }\n",
              "\n",
              "    .dataframe thead th {\n",
              "        text-align: right;\n",
              "    }\n",
              "</style>\n",
              "<table border=\"1\" class=\"dataframe\">\n",
              "  <thead>\n",
              "    <tr style=\"text-align: right;\">\n",
              "      <th></th>\n",
              "      <th>release_year</th>\n",
              "    </tr>\n",
              "  </thead>\n",
              "  <tbody>\n",
              "    <tr>\n",
              "      <th>count</th>\n",
              "      <td>8807.000000</td>\n",
              "    </tr>\n",
              "    <tr>\n",
              "      <th>mean</th>\n",
              "      <td>2014.180198</td>\n",
              "    </tr>\n",
              "    <tr>\n",
              "      <th>std</th>\n",
              "      <td>8.819312</td>\n",
              "    </tr>\n",
              "    <tr>\n",
              "      <th>min</th>\n",
              "      <td>1925.000000</td>\n",
              "    </tr>\n",
              "    <tr>\n",
              "      <th>25%</th>\n",
              "      <td>2013.000000</td>\n",
              "    </tr>\n",
              "    <tr>\n",
              "      <th>50%</th>\n",
              "      <td>2017.000000</td>\n",
              "    </tr>\n",
              "    <tr>\n",
              "      <th>75%</th>\n",
              "      <td>2019.000000</td>\n",
              "    </tr>\n",
              "    <tr>\n",
              "      <th>max</th>\n",
              "      <td>2021.000000</td>\n",
              "    </tr>\n",
              "  </tbody>\n",
              "</table>\n",
              "</div>\n",
              "      <button class=\"colab-df-convert\" onclick=\"convertToInteractive('df-cd82fadd-a3f3-4025-bcc8-26b6615c24a0')\"\n",
              "              title=\"Convert this dataframe to an interactive table.\"\n",
              "              style=\"display:none;\">\n",
              "        \n",
              "  <svg xmlns=\"http://www.w3.org/2000/svg\" height=\"24px\"viewBox=\"0 0 24 24\"\n",
              "       width=\"24px\">\n",
              "    <path d=\"M0 0h24v24H0V0z\" fill=\"none\"/>\n",
              "    <path d=\"M18.56 5.44l.94 2.06.94-2.06 2.06-.94-2.06-.94-.94-2.06-.94 2.06-2.06.94zm-11 1L8.5 8.5l.94-2.06 2.06-.94-2.06-.94L8.5 2.5l-.94 2.06-2.06.94zm10 10l.94 2.06.94-2.06 2.06-.94-2.06-.94-.94-2.06-.94 2.06-2.06.94z\"/><path d=\"M17.41 7.96l-1.37-1.37c-.4-.4-.92-.59-1.43-.59-.52 0-1.04.2-1.43.59L10.3 9.45l-7.72 7.72c-.78.78-.78 2.05 0 2.83L4 21.41c.39.39.9.59 1.41.59.51 0 1.02-.2 1.41-.59l7.78-7.78 2.81-2.81c.8-.78.8-2.07 0-2.86zM5.41 20L4 18.59l7.72-7.72 1.47 1.35L5.41 20z\"/>\n",
              "  </svg>\n",
              "      </button>\n",
              "      \n",
              "  <style>\n",
              "    .colab-df-container {\n",
              "      display:flex;\n",
              "      flex-wrap:wrap;\n",
              "      gap: 12px;\n",
              "    }\n",
              "\n",
              "    .colab-df-convert {\n",
              "      background-color: #E8F0FE;\n",
              "      border: none;\n",
              "      border-radius: 50%;\n",
              "      cursor: pointer;\n",
              "      display: none;\n",
              "      fill: #1967D2;\n",
              "      height: 32px;\n",
              "      padding: 0 0 0 0;\n",
              "      width: 32px;\n",
              "    }\n",
              "\n",
              "    .colab-df-convert:hover {\n",
              "      background-color: #E2EBFA;\n",
              "      box-shadow: 0px 1px 2px rgba(60, 64, 67, 0.3), 0px 1px 3px 1px rgba(60, 64, 67, 0.15);\n",
              "      fill: #174EA6;\n",
              "    }\n",
              "\n",
              "    [theme=dark] .colab-df-convert {\n",
              "      background-color: #3B4455;\n",
              "      fill: #D2E3FC;\n",
              "    }\n",
              "\n",
              "    [theme=dark] .colab-df-convert:hover {\n",
              "      background-color: #434B5C;\n",
              "      box-shadow: 0px 1px 3px 1px rgba(0, 0, 0, 0.15);\n",
              "      filter: drop-shadow(0px 1px 2px rgba(0, 0, 0, 0.3));\n",
              "      fill: #FFFFFF;\n",
              "    }\n",
              "  </style>\n",
              "\n",
              "      <script>\n",
              "        const buttonEl =\n",
              "          document.querySelector('#df-cd82fadd-a3f3-4025-bcc8-26b6615c24a0 button.colab-df-convert');\n",
              "        buttonEl.style.display =\n",
              "          google.colab.kernel.accessAllowed ? 'block' : 'none';\n",
              "\n",
              "        async function convertToInteractive(key) {\n",
              "          const element = document.querySelector('#df-cd82fadd-a3f3-4025-bcc8-26b6615c24a0');\n",
              "          const dataTable =\n",
              "            await google.colab.kernel.invokeFunction('convertToInteractive',\n",
              "                                                     [key], {});\n",
              "          if (!dataTable) return;\n",
              "\n",
              "          const docLinkHtml = 'Like what you see? Visit the ' +\n",
              "            '<a target=\"_blank\" href=https://colab.research.google.com/notebooks/data_table.ipynb>data table notebook</a>'\n",
              "            + ' to learn more about interactive tables.';\n",
              "          element.innerHTML = '';\n",
              "          dataTable['output_type'] = 'display_data';\n",
              "          await google.colab.output.renderOutput(dataTable, element);\n",
              "          const docLink = document.createElement('div');\n",
              "          docLink.innerHTML = docLinkHtml;\n",
              "          element.appendChild(docLink);\n",
              "        }\n",
              "      </script>\n",
              "    </div>\n",
              "  </div>\n",
              "  "
            ]
          },
          "metadata": {},
          "execution_count": 7
        }
      ],
      "source": [
        "movie_df.describe()"
      ]
    },
    {
      "cell_type": "markdown",
      "metadata": {
        "id": "R494vqHPFq_J"
      },
      "source": [
        "## Data Cleansing"
      ]
    },
    {
      "cell_type": "markdown",
      "metadata": {
        "id": "esNLYcL2Fq_K"
      },
      "source": [
        "### Menangani missing value\n",
        "\n",
        "Semua missing value akan diganti menjadi 'Unknown'"
      ]
    },
    {
      "cell_type": "code",
      "execution_count": null,
      "metadata": {
        "id": "zCHo4bG5Fq_K"
      },
      "outputs": [],
      "source": [
        "movie_df.fillna('unknown', inplace=True)\n"
      ]
    },
    {
      "cell_type": "code",
      "execution_count": null,
      "metadata": {
        "id": "dIj4YrgGFq_L",
        "outputId": "16fe2143-ef47-46db-f635-95fb983e9167",
        "colab": {
          "base_uri": "https://localhost:8080/"
        }
      },
      "outputs": [
        {
          "output_type": "execute_result",
          "data": {
            "text/plain": [
              "show_id         0\n",
              "type            0\n",
              "title           0\n",
              "director        0\n",
              "cast            0\n",
              "country         0\n",
              "date_added      0\n",
              "release_year    0\n",
              "rating          0\n",
              "duration        0\n",
              "listed_in       0\n",
              "description     0\n",
              "dtype: int64"
            ]
          },
          "metadata": {},
          "execution_count": 9
        }
      ],
      "source": [
        "movie_df.isna().sum()"
      ]
    },
    {
      "cell_type": "markdown",
      "metadata": {
        "id": "akOBpQCTFq_M"
      },
      "source": [
        "### Mengubah `listed_in`, `director`, `country` & `cast` menjadi list"
      ]
    },
    {
      "cell_type": "code",
      "execution_count": null,
      "metadata": {
        "id": "p0IMec3aFq_M",
        "outputId": "ed386ff7-06a0-4fc0-9f7a-3e1d7b596102",
        "colab": {
          "base_uri": "https://localhost:8080/",
          "height": 963
        }
      },
      "outputs": [
        {
          "output_type": "execute_result",
          "data": {
            "text/plain": [
              "     show_id     type                               title           director  \\\n",
              "4482   s4483    Movie             ADAM SANDLER 100% FRESH      [Steve Brill]   \n",
              "4722   s4723    Movie                              Fitoor  [Abhishek Kapoor]   \n",
              "5965   s5966    Movie                              22-Jul  [Paul Greengrass]   \n",
              "4932   s4933    Movie  Greg Davies: You Magnificent Beast      [Peter Orton]   \n",
              "3203   s3204    Movie                             Why Me?    [Tudor Giurgiu]   \n",
              "8582   s8583    Movie                 Thorne: Scaredy Cat    [Benjamin Ross]   \n",
              "6658   s6659  TV Show                      Earth to Luna!          [unknown]   \n",
              "4852   s4853  TV Show                        Trollhunters          [unknown]   \n",
              "4954   s4955    Movie                        Om Shanti Om       [Farah Khan]   \n",
              "4946   s4947  TV Show      Star Trek: The Next Generation          [unknown]   \n",
              "\n",
              "                                                   cast  \\\n",
              "4482                                     [Adam Sandler]   \n",
              "4722  [Aditya Roy Kapoor,  Katrina Kaif,  Tabu,  Rah...   \n",
              "5965  [Anders Danielsen Lie,  Jon Øigarden,  Jonas S...   \n",
              "4932                                      [Greg Davies]   \n",
              "3203  [Emilian Oprea,  Mihai Constantin,  Andreea Va...   \n",
              "8582  [David Morrissey,  Eddie Marsan,  Aidan Gillen...   \n",
              "6658  [Angelina Carballo,  Raul-Gomez Pina,  Eric An...   \n",
              "4852  [Kelsey Grammer,  Anton Yelchin,  Charlie Saxt...   \n",
              "4954  [Shah Rukh Khan,  Deepika Padukone,  Shreyas T...   \n",
              "4946  [Patrick Stewart,  Jonathan Frakes,  LeVar Bur...   \n",
              "\n",
              "                                 country        date_added  release_year  \\\n",
              "4482                     [United States]  October 23, 2018          2018   \n",
              "4722                             [India]    August 2, 2018          2016   \n",
              "5965  [Norway,  Iceland,  United States]  October 10, 2018          2018   \n",
              "4932                    [United Kingdom]    April 10, 2018          2018   \n",
              "3203      [Romania,  Bulgaria,  Hungary]  December 1, 2019          2015   \n",
              "8582                    [United Kingdom]  November 2, 2016          2010   \n",
              "6658                            [Brazil]    April 10, 2020          2014   \n",
              "4852            [United States,  Mexico]      May 25, 2018          2018   \n",
              "4954                             [India]     April 1, 2018          2007   \n",
              "4946                     [United States]     April 2, 2018          1993   \n",
              "\n",
              "     rating   duration                                          listed_in  \\\n",
              "4482  TV-MA     74 min                                  [Stand-Up Comedy]   \n",
              "4722  TV-14    124 min  [Dramas,  International Movies,  Romantic Movies]   \n",
              "5965      R    144 min                               [Dramas,  Thrillers]   \n",
              "4932  TV-MA     66 min                                  [Stand-Up Comedy]   \n",
              "3203  TV-MA    126 min        [Dramas,  International Movies,  Thrillers]   \n",
              "8582     NR    125 min                    [Dramas,  International Movies]   \n",
              "6658   TV-Y   1 Season                                         [Kids' TV]   \n",
              "4852  TV-Y7  3 Seasons  [Kids' TV,  TV Action & Adventure,  TV Sci-Fi ...   \n",
              "4954  TV-14    169 min         [Comedies,  Dramas,  International Movies]   \n",
              "4946  TV-PG  7 Seasons      [TV Action & Adventure,  TV Sci-Fi & Fantasy]   \n",
              "\n",
              "                                            description  \n",
              "4482  From \"Heroes\" to \"Ice Cream Ladies\" – Adam San...  \n",
              "4722  A young artist falls for an aristocratic young...  \n",
              "5965  After devastating terror attacks in Norway, a ...  \n",
              "4932  British comedian Greg Davies revisits terrifyi...  \n",
              "3203  A young prosecutor is assigned a career-making...  \n",
              "8582  Heading a new team whose aim is to crack the c...  \n",
              "6658  Curious about everything and excited about sci...  \n",
              "4852  After uncovering a mysterious amulet, an avera...  \n",
              "4954  Reincarnated 30 years after being killed in a ...  \n",
              "4946  Decades after the adventures of the original E...  "
            ],
            "text/html": [
              "\n",
              "  <div id=\"df-c32c3772-d909-4d4c-9508-3070fae2ff37\">\n",
              "    <div class=\"colab-df-container\">\n",
              "      <div>\n",
              "<style scoped>\n",
              "    .dataframe tbody tr th:only-of-type {\n",
              "        vertical-align: middle;\n",
              "    }\n",
              "\n",
              "    .dataframe tbody tr th {\n",
              "        vertical-align: top;\n",
              "    }\n",
              "\n",
              "    .dataframe thead th {\n",
              "        text-align: right;\n",
              "    }\n",
              "</style>\n",
              "<table border=\"1\" class=\"dataframe\">\n",
              "  <thead>\n",
              "    <tr style=\"text-align: right;\">\n",
              "      <th></th>\n",
              "      <th>show_id</th>\n",
              "      <th>type</th>\n",
              "      <th>title</th>\n",
              "      <th>director</th>\n",
              "      <th>cast</th>\n",
              "      <th>country</th>\n",
              "      <th>date_added</th>\n",
              "      <th>release_year</th>\n",
              "      <th>rating</th>\n",
              "      <th>duration</th>\n",
              "      <th>listed_in</th>\n",
              "      <th>description</th>\n",
              "    </tr>\n",
              "  </thead>\n",
              "  <tbody>\n",
              "    <tr>\n",
              "      <th>4482</th>\n",
              "      <td>s4483</td>\n",
              "      <td>Movie</td>\n",
              "      <td>ADAM SANDLER 100% FRESH</td>\n",
              "      <td>[Steve Brill]</td>\n",
              "      <td>[Adam Sandler]</td>\n",
              "      <td>[United States]</td>\n",
              "      <td>October 23, 2018</td>\n",
              "      <td>2018</td>\n",
              "      <td>TV-MA</td>\n",
              "      <td>74 min</td>\n",
              "      <td>[Stand-Up Comedy]</td>\n",
              "      <td>From \"Heroes\" to \"Ice Cream Ladies\" – Adam San...</td>\n",
              "    </tr>\n",
              "    <tr>\n",
              "      <th>4722</th>\n",
              "      <td>s4723</td>\n",
              "      <td>Movie</td>\n",
              "      <td>Fitoor</td>\n",
              "      <td>[Abhishek Kapoor]</td>\n",
              "      <td>[Aditya Roy Kapoor,  Katrina Kaif,  Tabu,  Rah...</td>\n",
              "      <td>[India]</td>\n",
              "      <td>August 2, 2018</td>\n",
              "      <td>2016</td>\n",
              "      <td>TV-14</td>\n",
              "      <td>124 min</td>\n",
              "      <td>[Dramas,  International Movies,  Romantic Movies]</td>\n",
              "      <td>A young artist falls for an aristocratic young...</td>\n",
              "    </tr>\n",
              "    <tr>\n",
              "      <th>5965</th>\n",
              "      <td>s5966</td>\n",
              "      <td>Movie</td>\n",
              "      <td>22-Jul</td>\n",
              "      <td>[Paul Greengrass]</td>\n",
              "      <td>[Anders Danielsen Lie,  Jon Øigarden,  Jonas S...</td>\n",
              "      <td>[Norway,  Iceland,  United States]</td>\n",
              "      <td>October 10, 2018</td>\n",
              "      <td>2018</td>\n",
              "      <td>R</td>\n",
              "      <td>144 min</td>\n",
              "      <td>[Dramas,  Thrillers]</td>\n",
              "      <td>After devastating terror attacks in Norway, a ...</td>\n",
              "    </tr>\n",
              "    <tr>\n",
              "      <th>4932</th>\n",
              "      <td>s4933</td>\n",
              "      <td>Movie</td>\n",
              "      <td>Greg Davies: You Magnificent Beast</td>\n",
              "      <td>[Peter Orton]</td>\n",
              "      <td>[Greg Davies]</td>\n",
              "      <td>[United Kingdom]</td>\n",
              "      <td>April 10, 2018</td>\n",
              "      <td>2018</td>\n",
              "      <td>TV-MA</td>\n",
              "      <td>66 min</td>\n",
              "      <td>[Stand-Up Comedy]</td>\n",
              "      <td>British comedian Greg Davies revisits terrifyi...</td>\n",
              "    </tr>\n",
              "    <tr>\n",
              "      <th>3203</th>\n",
              "      <td>s3204</td>\n",
              "      <td>Movie</td>\n",
              "      <td>Why Me?</td>\n",
              "      <td>[Tudor Giurgiu]</td>\n",
              "      <td>[Emilian Oprea,  Mihai Constantin,  Andreea Va...</td>\n",
              "      <td>[Romania,  Bulgaria,  Hungary]</td>\n",
              "      <td>December 1, 2019</td>\n",
              "      <td>2015</td>\n",
              "      <td>TV-MA</td>\n",
              "      <td>126 min</td>\n",
              "      <td>[Dramas,  International Movies,  Thrillers]</td>\n",
              "      <td>A young prosecutor is assigned a career-making...</td>\n",
              "    </tr>\n",
              "    <tr>\n",
              "      <th>8582</th>\n",
              "      <td>s8583</td>\n",
              "      <td>Movie</td>\n",
              "      <td>Thorne: Scaredy Cat</td>\n",
              "      <td>[Benjamin Ross]</td>\n",
              "      <td>[David Morrissey,  Eddie Marsan,  Aidan Gillen...</td>\n",
              "      <td>[United Kingdom]</td>\n",
              "      <td>November 2, 2016</td>\n",
              "      <td>2010</td>\n",
              "      <td>NR</td>\n",
              "      <td>125 min</td>\n",
              "      <td>[Dramas,  International Movies]</td>\n",
              "      <td>Heading a new team whose aim is to crack the c...</td>\n",
              "    </tr>\n",
              "    <tr>\n",
              "      <th>6658</th>\n",
              "      <td>s6659</td>\n",
              "      <td>TV Show</td>\n",
              "      <td>Earth to Luna!</td>\n",
              "      <td>[unknown]</td>\n",
              "      <td>[Angelina Carballo,  Raul-Gomez Pina,  Eric An...</td>\n",
              "      <td>[Brazil]</td>\n",
              "      <td>April 10, 2020</td>\n",
              "      <td>2014</td>\n",
              "      <td>TV-Y</td>\n",
              "      <td>1 Season</td>\n",
              "      <td>[Kids' TV]</td>\n",
              "      <td>Curious about everything and excited about sci...</td>\n",
              "    </tr>\n",
              "    <tr>\n",
              "      <th>4852</th>\n",
              "      <td>s4853</td>\n",
              "      <td>TV Show</td>\n",
              "      <td>Trollhunters</td>\n",
              "      <td>[unknown]</td>\n",
              "      <td>[Kelsey Grammer,  Anton Yelchin,  Charlie Saxt...</td>\n",
              "      <td>[United States,  Mexico]</td>\n",
              "      <td>May 25, 2018</td>\n",
              "      <td>2018</td>\n",
              "      <td>TV-Y7</td>\n",
              "      <td>3 Seasons</td>\n",
              "      <td>[Kids' TV,  TV Action &amp; Adventure,  TV Sci-Fi ...</td>\n",
              "      <td>After uncovering a mysterious amulet, an avera...</td>\n",
              "    </tr>\n",
              "    <tr>\n",
              "      <th>4954</th>\n",
              "      <td>s4955</td>\n",
              "      <td>Movie</td>\n",
              "      <td>Om Shanti Om</td>\n",
              "      <td>[Farah Khan]</td>\n",
              "      <td>[Shah Rukh Khan,  Deepika Padukone,  Shreyas T...</td>\n",
              "      <td>[India]</td>\n",
              "      <td>April 1, 2018</td>\n",
              "      <td>2007</td>\n",
              "      <td>TV-14</td>\n",
              "      <td>169 min</td>\n",
              "      <td>[Comedies,  Dramas,  International Movies]</td>\n",
              "      <td>Reincarnated 30 years after being killed in a ...</td>\n",
              "    </tr>\n",
              "    <tr>\n",
              "      <th>4946</th>\n",
              "      <td>s4947</td>\n",
              "      <td>TV Show</td>\n",
              "      <td>Star Trek: The Next Generation</td>\n",
              "      <td>[unknown]</td>\n",
              "      <td>[Patrick Stewart,  Jonathan Frakes,  LeVar Bur...</td>\n",
              "      <td>[United States]</td>\n",
              "      <td>April 2, 2018</td>\n",
              "      <td>1993</td>\n",
              "      <td>TV-PG</td>\n",
              "      <td>7 Seasons</td>\n",
              "      <td>[TV Action &amp; Adventure,  TV Sci-Fi &amp; Fantasy]</td>\n",
              "      <td>Decades after the adventures of the original E...</td>\n",
              "    </tr>\n",
              "  </tbody>\n",
              "</table>\n",
              "</div>\n",
              "      <button class=\"colab-df-convert\" onclick=\"convertToInteractive('df-c32c3772-d909-4d4c-9508-3070fae2ff37')\"\n",
              "              title=\"Convert this dataframe to an interactive table.\"\n",
              "              style=\"display:none;\">\n",
              "        \n",
              "  <svg xmlns=\"http://www.w3.org/2000/svg\" height=\"24px\"viewBox=\"0 0 24 24\"\n",
              "       width=\"24px\">\n",
              "    <path d=\"M0 0h24v24H0V0z\" fill=\"none\"/>\n",
              "    <path d=\"M18.56 5.44l.94 2.06.94-2.06 2.06-.94-2.06-.94-.94-2.06-.94 2.06-2.06.94zm-11 1L8.5 8.5l.94-2.06 2.06-.94-2.06-.94L8.5 2.5l-.94 2.06-2.06.94zm10 10l.94 2.06.94-2.06 2.06-.94-2.06-.94-.94-2.06-.94 2.06-2.06.94z\"/><path d=\"M17.41 7.96l-1.37-1.37c-.4-.4-.92-.59-1.43-.59-.52 0-1.04.2-1.43.59L10.3 9.45l-7.72 7.72c-.78.78-.78 2.05 0 2.83L4 21.41c.39.39.9.59 1.41.59.51 0 1.02-.2 1.41-.59l7.78-7.78 2.81-2.81c.8-.78.8-2.07 0-2.86zM5.41 20L4 18.59l7.72-7.72 1.47 1.35L5.41 20z\"/>\n",
              "  </svg>\n",
              "      </button>\n",
              "      \n",
              "  <style>\n",
              "    .colab-df-container {\n",
              "      display:flex;\n",
              "      flex-wrap:wrap;\n",
              "      gap: 12px;\n",
              "    }\n",
              "\n",
              "    .colab-df-convert {\n",
              "      background-color: #E8F0FE;\n",
              "      border: none;\n",
              "      border-radius: 50%;\n",
              "      cursor: pointer;\n",
              "      display: none;\n",
              "      fill: #1967D2;\n",
              "      height: 32px;\n",
              "      padding: 0 0 0 0;\n",
              "      width: 32px;\n",
              "    }\n",
              "\n",
              "    .colab-df-convert:hover {\n",
              "      background-color: #E2EBFA;\n",
              "      box-shadow: 0px 1px 2px rgba(60, 64, 67, 0.3), 0px 1px 3px 1px rgba(60, 64, 67, 0.15);\n",
              "      fill: #174EA6;\n",
              "    }\n",
              "\n",
              "    [theme=dark] .colab-df-convert {\n",
              "      background-color: #3B4455;\n",
              "      fill: #D2E3FC;\n",
              "    }\n",
              "\n",
              "    [theme=dark] .colab-df-convert:hover {\n",
              "      background-color: #434B5C;\n",
              "      box-shadow: 0px 1px 3px 1px rgba(0, 0, 0, 0.15);\n",
              "      filter: drop-shadow(0px 1px 2px rgba(0, 0, 0, 0.3));\n",
              "      fill: #FFFFFF;\n",
              "    }\n",
              "  </style>\n",
              "\n",
              "      <script>\n",
              "        const buttonEl =\n",
              "          document.querySelector('#df-c32c3772-d909-4d4c-9508-3070fae2ff37 button.colab-df-convert');\n",
              "        buttonEl.style.display =\n",
              "          google.colab.kernel.accessAllowed ? 'block' : 'none';\n",
              "\n",
              "        async function convertToInteractive(key) {\n",
              "          const element = document.querySelector('#df-c32c3772-d909-4d4c-9508-3070fae2ff37');\n",
              "          const dataTable =\n",
              "            await google.colab.kernel.invokeFunction('convertToInteractive',\n",
              "                                                     [key], {});\n",
              "          if (!dataTable) return;\n",
              "\n",
              "          const docLinkHtml = 'Like what you see? Visit the ' +\n",
              "            '<a target=\"_blank\" href=https://colab.research.google.com/notebooks/data_table.ipynb>data table notebook</a>'\n",
              "            + ' to learn more about interactive tables.';\n",
              "          element.innerHTML = '';\n",
              "          dataTable['output_type'] = 'display_data';\n",
              "          await google.colab.output.renderOutput(dataTable, element);\n",
              "          const docLink = document.createElement('div');\n",
              "          docLink.innerHTML = docLinkHtml;\n",
              "          element.appendChild(docLink);\n",
              "        }\n",
              "      </script>\n",
              "    </div>\n",
              "  </div>\n",
              "  "
            ]
          },
          "metadata": {},
          "execution_count": 10
        }
      ],
      "source": [
        "column_list = ['listed_in', 'director', 'country', 'cast']\n",
        "\n",
        "for column in column_list:\n",
        "    movie_df[column] = movie_df[column].apply(lambda row: row.split(','))\n",
        "\n",
        "movie_df.sample(10)"
      ]
    },
    {
      "cell_type": "markdown",
      "metadata": {
        "id": "tzahAQoDFq_N"
      },
      "source": [
        "## Data Preprocessing"
      ]
    },
    {
      "cell_type": "markdown",
      "metadata": {
        "id": "BQfmIRTsFq_O"
      },
      "source": [
        "### Mengambil kolom akan dijadikan sebagai fitur"
      ]
    },
    {
      "cell_type": "code",
      "execution_count": null,
      "metadata": {
        "id": "vk9Qese6Fq_P"
      },
      "outputs": [],
      "source": [
        "feature_df = movie_df[['title', 'director', 'cast', 'country', 'listed_in']]\n"
      ]
    },
    {
      "cell_type": "code",
      "execution_count": null,
      "metadata": {
        "id": "sbTRyW41Fq_Q",
        "outputId": "65e3ec36-e862-425a-df28-0ddc93b66b2d",
        "colab": {
          "base_uri": "https://localhost:8080/",
          "height": 302
        }
      },
      "outputs": [
        {
          "output_type": "execute_result",
          "data": {
            "text/plain": [
              "                                  title                     director  \\\n",
              "379                         Tattoo Redo                    [unknown]   \n",
              "5931  The Battered Bastards of Baseball  [Chapman Way,  Maclain Way]   \n",
              "7457                          Mini Wolf                    [unknown]   \n",
              "3417               Ghosts of Sugar Land               [Bassam Tariq]   \n",
              "4822                        Us and Them                   [Rene Liu]   \n",
              "\n",
              "                                                   cast          country  \\\n",
              "379                                           [unknown]        [unknown]   \n",
              "5931                        [Todd Field,  Kurt Russell]  [United States]   \n",
              "7457                                          [unknown]         [France]   \n",
              "3417                                          [unknown]  [United States]   \n",
              "4822  [Jing Boran,  Zhou Dongyu,  Zhuangzhuang Tian,...          [China]   \n",
              "\n",
              "                                              listed_in  \n",
              "379                                        [Reality TV]  \n",
              "5931                    [Documentaries,  Sports Movies]  \n",
              "7457                                         [Kids' TV]  \n",
              "3417                                    [Documentaries]  \n",
              "4822  [Dramas,  International Movies,  Romantic Movies]  "
            ],
            "text/html": [
              "\n",
              "  <div id=\"df-bda61b17-e819-4d47-b94f-0d8e686e80c4\">\n",
              "    <div class=\"colab-df-container\">\n",
              "      <div>\n",
              "<style scoped>\n",
              "    .dataframe tbody tr th:only-of-type {\n",
              "        vertical-align: middle;\n",
              "    }\n",
              "\n",
              "    .dataframe tbody tr th {\n",
              "        vertical-align: top;\n",
              "    }\n",
              "\n",
              "    .dataframe thead th {\n",
              "        text-align: right;\n",
              "    }\n",
              "</style>\n",
              "<table border=\"1\" class=\"dataframe\">\n",
              "  <thead>\n",
              "    <tr style=\"text-align: right;\">\n",
              "      <th></th>\n",
              "      <th>title</th>\n",
              "      <th>director</th>\n",
              "      <th>cast</th>\n",
              "      <th>country</th>\n",
              "      <th>listed_in</th>\n",
              "    </tr>\n",
              "  </thead>\n",
              "  <tbody>\n",
              "    <tr>\n",
              "      <th>379</th>\n",
              "      <td>Tattoo Redo</td>\n",
              "      <td>[unknown]</td>\n",
              "      <td>[unknown]</td>\n",
              "      <td>[unknown]</td>\n",
              "      <td>[Reality TV]</td>\n",
              "    </tr>\n",
              "    <tr>\n",
              "      <th>5931</th>\n",
              "      <td>The Battered Bastards of Baseball</td>\n",
              "      <td>[Chapman Way,  Maclain Way]</td>\n",
              "      <td>[Todd Field,  Kurt Russell]</td>\n",
              "      <td>[United States]</td>\n",
              "      <td>[Documentaries,  Sports Movies]</td>\n",
              "    </tr>\n",
              "    <tr>\n",
              "      <th>7457</th>\n",
              "      <td>Mini Wolf</td>\n",
              "      <td>[unknown]</td>\n",
              "      <td>[unknown]</td>\n",
              "      <td>[France]</td>\n",
              "      <td>[Kids' TV]</td>\n",
              "    </tr>\n",
              "    <tr>\n",
              "      <th>3417</th>\n",
              "      <td>Ghosts of Sugar Land</td>\n",
              "      <td>[Bassam Tariq]</td>\n",
              "      <td>[unknown]</td>\n",
              "      <td>[United States]</td>\n",
              "      <td>[Documentaries]</td>\n",
              "    </tr>\n",
              "    <tr>\n",
              "      <th>4822</th>\n",
              "      <td>Us and Them</td>\n",
              "      <td>[Rene Liu]</td>\n",
              "      <td>[Jing Boran,  Zhou Dongyu,  Zhuangzhuang Tian,...</td>\n",
              "      <td>[China]</td>\n",
              "      <td>[Dramas,  International Movies,  Romantic Movies]</td>\n",
              "    </tr>\n",
              "  </tbody>\n",
              "</table>\n",
              "</div>\n",
              "      <button class=\"colab-df-convert\" onclick=\"convertToInteractive('df-bda61b17-e819-4d47-b94f-0d8e686e80c4')\"\n",
              "              title=\"Convert this dataframe to an interactive table.\"\n",
              "              style=\"display:none;\">\n",
              "        \n",
              "  <svg xmlns=\"http://www.w3.org/2000/svg\" height=\"24px\"viewBox=\"0 0 24 24\"\n",
              "       width=\"24px\">\n",
              "    <path d=\"M0 0h24v24H0V0z\" fill=\"none\"/>\n",
              "    <path d=\"M18.56 5.44l.94 2.06.94-2.06 2.06-.94-2.06-.94-.94-2.06-.94 2.06-2.06.94zm-11 1L8.5 8.5l.94-2.06 2.06-.94-2.06-.94L8.5 2.5l-.94 2.06-2.06.94zm10 10l.94 2.06.94-2.06 2.06-.94-2.06-.94-.94-2.06-.94 2.06-2.06.94z\"/><path d=\"M17.41 7.96l-1.37-1.37c-.4-.4-.92-.59-1.43-.59-.52 0-1.04.2-1.43.59L10.3 9.45l-7.72 7.72c-.78.78-.78 2.05 0 2.83L4 21.41c.39.39.9.59 1.41.59.51 0 1.02-.2 1.41-.59l7.78-7.78 2.81-2.81c.8-.78.8-2.07 0-2.86zM5.41 20L4 18.59l7.72-7.72 1.47 1.35L5.41 20z\"/>\n",
              "  </svg>\n",
              "      </button>\n",
              "      \n",
              "  <style>\n",
              "    .colab-df-container {\n",
              "      display:flex;\n",
              "      flex-wrap:wrap;\n",
              "      gap: 12px;\n",
              "    }\n",
              "\n",
              "    .colab-df-convert {\n",
              "      background-color: #E8F0FE;\n",
              "      border: none;\n",
              "      border-radius: 50%;\n",
              "      cursor: pointer;\n",
              "      display: none;\n",
              "      fill: #1967D2;\n",
              "      height: 32px;\n",
              "      padding: 0 0 0 0;\n",
              "      width: 32px;\n",
              "    }\n",
              "\n",
              "    .colab-df-convert:hover {\n",
              "      background-color: #E2EBFA;\n",
              "      box-shadow: 0px 1px 2px rgba(60, 64, 67, 0.3), 0px 1px 3px 1px rgba(60, 64, 67, 0.15);\n",
              "      fill: #174EA6;\n",
              "    }\n",
              "\n",
              "    [theme=dark] .colab-df-convert {\n",
              "      background-color: #3B4455;\n",
              "      fill: #D2E3FC;\n",
              "    }\n",
              "\n",
              "    [theme=dark] .colab-df-convert:hover {\n",
              "      background-color: #434B5C;\n",
              "      box-shadow: 0px 1px 3px 1px rgba(0, 0, 0, 0.15);\n",
              "      filter: drop-shadow(0px 1px 2px rgba(0, 0, 0, 0.3));\n",
              "      fill: #FFFFFF;\n",
              "    }\n",
              "  </style>\n",
              "\n",
              "      <script>\n",
              "        const buttonEl =\n",
              "          document.querySelector('#df-bda61b17-e819-4d47-b94f-0d8e686e80c4 button.colab-df-convert');\n",
              "        buttonEl.style.display =\n",
              "          google.colab.kernel.accessAllowed ? 'block' : 'none';\n",
              "\n",
              "        async function convertToInteractive(key) {\n",
              "          const element = document.querySelector('#df-bda61b17-e819-4d47-b94f-0d8e686e80c4');\n",
              "          const dataTable =\n",
              "            await google.colab.kernel.invokeFunction('convertToInteractive',\n",
              "                                                     [key], {});\n",
              "          if (!dataTable) return;\n",
              "\n",
              "          const docLinkHtml = 'Like what you see? Visit the ' +\n",
              "            '<a target=\"_blank\" href=https://colab.research.google.com/notebooks/data_table.ipynb>data table notebook</a>'\n",
              "            + ' to learn more about interactive tables.';\n",
              "          element.innerHTML = '';\n",
              "          dataTable['output_type'] = 'display_data';\n",
              "          await google.colab.output.renderOutput(dataTable, element);\n",
              "          const docLink = document.createElement('div');\n",
              "          docLink.innerHTML = docLinkHtml;\n",
              "          element.appendChild(docLink);\n",
              "        }\n",
              "      </script>\n",
              "    </div>\n",
              "  </div>\n",
              "  "
            ]
          },
          "metadata": {},
          "execution_count": 12
        }
      ],
      "source": [
        "feature_df.sample(5)"
      ]
    },
    {
      "cell_type": "markdown",
      "metadata": {
        "id": "g9RQY1v6Fq_R"
      },
      "source": [
        "## Menggunakan CountVectorizer"
      ]
    },
    {
      "cell_type": "code",
      "execution_count": null,
      "metadata": {
        "id": "pmNtsR11Fq_S"
      },
      "outputs": [],
      "source": [
        "def sanitize(x):\n",
        "    try:\n",
        "        #kalau cell berisi list\n",
        "        if isinstance(x, list):\n",
        "            return [i.replace(' ', '').lower() for i in x]\n",
        "        #kalau cell berisi string\n",
        "        else:\n",
        "            return [x.replace(' ', '').lower()]\n",
        "    except:\n",
        "        print(x)\n"
      ]
    },
    {
      "cell_type": "code",
      "execution_count": null,
      "metadata": {
        "id": "e6bWhgeJFq_T",
        "outputId": "f38e73e0-8ed0-42bb-9558-acf561c6695c",
        "colab": {
          "base_uri": "https://localhost:8080/"
        }
      },
      "outputs": [
        {
          "output_type": "stream",
          "name": "stderr",
          "text": [
            "<ipython-input-14-f5ea089e64cc>:3: SettingWithCopyWarning: \n",
            "A value is trying to be set on a copy of a slice from a DataFrame.\n",
            "Try using .loc[row_indexer,col_indexer] = value instead\n",
            "\n",
            "See the caveats in the documentation: https://pandas.pydata.org/pandas-docs/stable/user_guide/indexing.html#returning-a-view-versus-a-copy\n",
            "  feature_df[column] = feature_df[column].apply(sanitize)\n"
          ]
        }
      ],
      "source": [
        "feature_column = ['director', 'cast', 'country', 'listed_in']\n",
        "for column in feature_column:\n",
        "    feature_df[column] = feature_df[column].apply(sanitize)\n"
      ]
    },
    {
      "cell_type": "code",
      "execution_count": null,
      "metadata": {
        "id": "SeBfRf9HFq_U"
      },
      "outputs": [],
      "source": [
        "# untuk menggabungkan semua fiture\n",
        "def soup_feature(x):\n",
        "    return ' '.join(x['director']) + ' ' + ' '.join(x['cast']) + ' ' + ' '.join(x['country']) + ' ' + ' '.join(x['listed_in'])\n"
      ]
    },
    {
      "cell_type": "code",
      "execution_count": null,
      "metadata": {
        "id": "3WMhvDTqFq_U",
        "outputId": "7306afde-5a45-4f6c-a950-a8bda2c4db71",
        "colab": {
          "base_uri": "https://localhost:8080/"
        }
      },
      "outputs": [
        {
          "output_type": "stream",
          "name": "stderr",
          "text": [
            "<ipython-input-16-cefbe9bdd518>:1: SettingWithCopyWarning: \n",
            "A value is trying to be set on a copy of a slice from a DataFrame.\n",
            "Try using .loc[row_indexer,col_indexer] = value instead\n",
            "\n",
            "See the caveats in the documentation: https://pandas.pydata.org/pandas-docs/stable/user_guide/indexing.html#returning-a-view-versus-a-copy\n",
            "  feature_df['soup'] = feature_df.apply(soup_feature, axis=1)\n"
          ]
        }
      ],
      "source": [
        "feature_df['soup'] = feature_df.apply(soup_feature, axis=1)"
      ]
    },
    {
      "cell_type": "code",
      "execution_count": null,
      "metadata": {
        "id": "YNHH3F5gFq_V",
        "outputId": "7765432c-c630-45a0-94f6-3670632ef7df",
        "colab": {
          "base_uri": "https://localhost:8080/"
        }
      },
      "outputs": [
        {
          "output_type": "execute_result",
          "data": {
            "text/plain": [
              "0       kirstenjohnson unknown unitedstates documentaries\n",
              "1       unknown amaqamata khosingema gailmabalane thab...\n",
              "2       julienleclercq samibouajila tracygotoas samuel...\n",
              "3            unknown unknown unknown docuseries realitytv\n",
              "4       unknown mayurmore jitendrakumar ranjanraj alam...\n",
              "                              ...                        \n",
              "8802    davidfincher markruffalo jakegyllenhaal robert...\n",
              "8803    unknown unknown unknown kids'tv koreantvshows ...\n",
              "8804    rubenfleischer jesseeisenberg woodyharrelson e...\n",
              "8805    peterhewitt timallen courteneycox chevychase k...\n",
              "8806    mozezsingh vickykaushal sarah-janedias raaghav...\n",
              "Name: soup, Length: 8807, dtype: object"
            ]
          },
          "metadata": {},
          "execution_count": 17
        }
      ],
      "source": [
        "feature_df['soup']\n"
      ]
    },
    {
      "cell_type": "code",
      "execution_count": null,
      "metadata": {
        "id": "w403dBu0Fq_V",
        "outputId": "a8293fe5-896e-47b3-9759-94bc1415dd74",
        "colab": {
          "base_uri": "https://localhost:8080/"
        }
      },
      "outputs": [
        {
          "output_type": "stream",
          "name": "stdout",
          "text": [
            "CountVectorizer(stop_words='english')\n",
            "(8807, 41989)\n"
          ]
        }
      ],
      "source": [
        "count = CountVectorizer(stop_words='english')\n",
        "count_matrix = count.fit_transform(feature_df['soup'])\n",
        "\n",
        "print(count)\n",
        "print(count_matrix.shape)"
      ]
    },
    {
      "cell_type": "markdown",
      "metadata": {
        "id": "qCbiQGZqFq_W"
      },
      "source": [
        "## Cosine Similarity"
      ]
    },
    {
      "cell_type": "code",
      "execution_count": null,
      "metadata": {
        "id": "E9VJoQ7xFq_W"
      },
      "outputs": [],
      "source": [
        "cosine_sim = cosine_similarity(count_matrix, count_matrix)\n",
        "\n",
        "#cosine_sim"
      ]
    },
    {
      "cell_type": "markdown",
      "metadata": {
        "id": "ft2fnv-xFq_X"
      },
      "source": [
        "## Mendapatkan Rekomendasi"
      ]
    },
    {
      "cell_type": "code",
      "execution_count": null,
      "metadata": {
        "id": "Psiq_ItzFq_X"
      },
      "outputs": [],
      "source": [
        "indices = pd.Series(feature_df.index, index=feature_df['title']).drop_duplicates()\n",
        "\n",
        "def movie_recommendations(title, n=5):\n",
        "    idx = indices[title]\n",
        "    \n",
        "    sim_scores = list(enumerate(cosine_sim[idx]))\n",
        "    \n",
        "    #mengurutkan film dari similarity tertinggi ke terendah\n",
        "    sim_scores = sorted(sim_scores, key=lambda x: x[1], reverse=True)\n",
        "\n",
        "    sim_scores = sim_scores[1:n+1]\n",
        "\n",
        "    movie_indices = [i[0] for i in sim_scores]\n",
        "\n",
        "    return movie_df.iloc[movie_indices]\n",
        "\n"
      ]
    },
    {
      "cell_type": "code",
      "execution_count": null,
      "metadata": {
        "id": "hFM7sMF8Fq_Y",
        "outputId": "41f70b37-2996-436c-ab1a-55e11f7297a2",
        "colab": {
          "base_uri": "https://localhost:8080/",
          "height": 177
        }
      },
      "outputs": [
        {
          "output_type": "execute_result",
          "data": {
            "text/plain": [
              "     show_id   type           title        director  \\\n",
              "8613   s8614  Movie  Train to Busan  [Sang-ho Yeon]   \n",
              "\n",
              "                                                   cast        country  \\\n",
              "8613  [Gong Yoo,  Yu-mi Jung,  Dong-seok Ma,  Soo-an...  [South Korea]   \n",
              "\n",
              "          date_added  release_year rating duration  \\\n",
              "8613  March 18, 2017          2016  TV-MA  118 min   \n",
              "\n",
              "                                              listed_in  \\\n",
              "8613  [Action & Adventure,  Horror Movies,  Internat...   \n",
              "\n",
              "                                            description  \n",
              "8613  As a zombie outbreak sweeps the country, a dad...  "
            ],
            "text/html": [
              "\n",
              "  <div id=\"df-576341e6-8484-4338-9ace-0157faacd738\">\n",
              "    <div class=\"colab-df-container\">\n",
              "      <div>\n",
              "<style scoped>\n",
              "    .dataframe tbody tr th:only-of-type {\n",
              "        vertical-align: middle;\n",
              "    }\n",
              "\n",
              "    .dataframe tbody tr th {\n",
              "        vertical-align: top;\n",
              "    }\n",
              "\n",
              "    .dataframe thead th {\n",
              "        text-align: right;\n",
              "    }\n",
              "</style>\n",
              "<table border=\"1\" class=\"dataframe\">\n",
              "  <thead>\n",
              "    <tr style=\"text-align: right;\">\n",
              "      <th></th>\n",
              "      <th>show_id</th>\n",
              "      <th>type</th>\n",
              "      <th>title</th>\n",
              "      <th>director</th>\n",
              "      <th>cast</th>\n",
              "      <th>country</th>\n",
              "      <th>date_added</th>\n",
              "      <th>release_year</th>\n",
              "      <th>rating</th>\n",
              "      <th>duration</th>\n",
              "      <th>listed_in</th>\n",
              "      <th>description</th>\n",
              "    </tr>\n",
              "  </thead>\n",
              "  <tbody>\n",
              "    <tr>\n",
              "      <th>8613</th>\n",
              "      <td>s8614</td>\n",
              "      <td>Movie</td>\n",
              "      <td>Train to Busan</td>\n",
              "      <td>[Sang-ho Yeon]</td>\n",
              "      <td>[Gong Yoo,  Yu-mi Jung,  Dong-seok Ma,  Soo-an...</td>\n",
              "      <td>[South Korea]</td>\n",
              "      <td>March 18, 2017</td>\n",
              "      <td>2016</td>\n",
              "      <td>TV-MA</td>\n",
              "      <td>118 min</td>\n",
              "      <td>[Action &amp; Adventure,  Horror Movies,  Internat...</td>\n",
              "      <td>As a zombie outbreak sweeps the country, a dad...</td>\n",
              "    </tr>\n",
              "  </tbody>\n",
              "</table>\n",
              "</div>\n",
              "      <button class=\"colab-df-convert\" onclick=\"convertToInteractive('df-576341e6-8484-4338-9ace-0157faacd738')\"\n",
              "              title=\"Convert this dataframe to an interactive table.\"\n",
              "              style=\"display:none;\">\n",
              "        \n",
              "  <svg xmlns=\"http://www.w3.org/2000/svg\" height=\"24px\"viewBox=\"0 0 24 24\"\n",
              "       width=\"24px\">\n",
              "    <path d=\"M0 0h24v24H0V0z\" fill=\"none\"/>\n",
              "    <path d=\"M18.56 5.44l.94 2.06.94-2.06 2.06-.94-2.06-.94-.94-2.06-.94 2.06-2.06.94zm-11 1L8.5 8.5l.94-2.06 2.06-.94-2.06-.94L8.5 2.5l-.94 2.06-2.06.94zm10 10l.94 2.06.94-2.06 2.06-.94-2.06-.94-.94-2.06-.94 2.06-2.06.94z\"/><path d=\"M17.41 7.96l-1.37-1.37c-.4-.4-.92-.59-1.43-.59-.52 0-1.04.2-1.43.59L10.3 9.45l-7.72 7.72c-.78.78-.78 2.05 0 2.83L4 21.41c.39.39.9.59 1.41.59.51 0 1.02-.2 1.41-.59l7.78-7.78 2.81-2.81c.8-.78.8-2.07 0-2.86zM5.41 20L4 18.59l7.72-7.72 1.47 1.35L5.41 20z\"/>\n",
              "  </svg>\n",
              "      </button>\n",
              "      \n",
              "  <style>\n",
              "    .colab-df-container {\n",
              "      display:flex;\n",
              "      flex-wrap:wrap;\n",
              "      gap: 12px;\n",
              "    }\n",
              "\n",
              "    .colab-df-convert {\n",
              "      background-color: #E8F0FE;\n",
              "      border: none;\n",
              "      border-radius: 50%;\n",
              "      cursor: pointer;\n",
              "      display: none;\n",
              "      fill: #1967D2;\n",
              "      height: 32px;\n",
              "      padding: 0 0 0 0;\n",
              "      width: 32px;\n",
              "    }\n",
              "\n",
              "    .colab-df-convert:hover {\n",
              "      background-color: #E2EBFA;\n",
              "      box-shadow: 0px 1px 2px rgba(60, 64, 67, 0.3), 0px 1px 3px 1px rgba(60, 64, 67, 0.15);\n",
              "      fill: #174EA6;\n",
              "    }\n",
              "\n",
              "    [theme=dark] .colab-df-convert {\n",
              "      background-color: #3B4455;\n",
              "      fill: #D2E3FC;\n",
              "    }\n",
              "\n",
              "    [theme=dark] .colab-df-convert:hover {\n",
              "      background-color: #434B5C;\n",
              "      box-shadow: 0px 1px 3px 1px rgba(0, 0, 0, 0.15);\n",
              "      filter: drop-shadow(0px 1px 2px rgba(0, 0, 0, 0.3));\n",
              "      fill: #FFFFFF;\n",
              "    }\n",
              "  </style>\n",
              "\n",
              "      <script>\n",
              "        const buttonEl =\n",
              "          document.querySelector('#df-576341e6-8484-4338-9ace-0157faacd738 button.colab-df-convert');\n",
              "        buttonEl.style.display =\n",
              "          google.colab.kernel.accessAllowed ? 'block' : 'none';\n",
              "\n",
              "        async function convertToInteractive(key) {\n",
              "          const element = document.querySelector('#df-576341e6-8484-4338-9ace-0157faacd738');\n",
              "          const dataTable =\n",
              "            await google.colab.kernel.invokeFunction('convertToInteractive',\n",
              "                                                     [key], {});\n",
              "          if (!dataTable) return;\n",
              "\n",
              "          const docLinkHtml = 'Like what you see? Visit the ' +\n",
              "            '<a target=\"_blank\" href=https://colab.research.google.com/notebooks/data_table.ipynb>data table notebook</a>'\n",
              "            + ' to learn more about interactive tables.';\n",
              "          element.innerHTML = '';\n",
              "          dataTable['output_type'] = 'display_data';\n",
              "          await google.colab.output.renderOutput(dataTable, element);\n",
              "          const docLink = document.createElement('div');\n",
              "          docLink.innerHTML = docLinkHtml;\n",
              "          element.appendChild(docLink);\n",
              "        }\n",
              "      </script>\n",
              "    </div>\n",
              "  </div>\n",
              "  "
            ]
          },
          "metadata": {},
          "execution_count": 21
        }
      ],
      "source": [
        "movie_df[movie_df['title'] == \"Train to Busan\"]\n"
      ]
    },
    {
      "cell_type": "code",
      "execution_count": null,
      "metadata": {
        "id": "toGBEyD9Fq_Y",
        "outputId": "51f458b1-9928-49d4-f166-ed0bed31ff87",
        "colab": {
          "base_uri": "https://localhost:8080/",
          "height": 206
        }
      },
      "outputs": [
        {
          "output_type": "execute_result",
          "data": {
            "text/plain": [
              "           title         director  \\\n",
              "0  Psychokinesis   [Sang-ho Yeon]   \n",
              "1     Steel Rain  [Yang Woo-seok]   \n",
              "2         Master     [Ui-seok Jo]   \n",
              "3    Sol Levante   [Akira Saitoh]   \n",
              "4      Abdo Mota        [unknown]   \n",
              "\n",
              "                                                cast        country  \\\n",
              "0  [Ryu Seung-ryong,  Shim Eun-kyung,  Jung-min P...  [South Korea]   \n",
              "1  [Woo-sung Jung,  Do-won Kwak,  Kap-soo Kim,  W...  [South Korea]   \n",
              "2  [Byung-hun Lee,  Dong-won Gang,  Woo-bin Kim, ...  [South Korea]   \n",
              "3                                          [unknown]        [Japan]   \n",
              "4                                  [Mohamed Ramadan]        [Egypt]   \n",
              "\n",
              "                                           listed_in  \n",
              "0  [Action & Adventure,  Comedies,  International...  \n",
              "1  [Action & Adventure,  Dramas,  International M...  \n",
              "2        [Action & Adventure,  International Movies]  \n",
              "3  [Action & Adventure,  Anime Features,  Interna...  \n",
              "4  [Action & Adventure,  Dramas,  International M...  "
            ],
            "text/html": [
              "\n",
              "  <div id=\"df-e27ffca7-c886-4740-b0f2-f141b0e50a77\">\n",
              "    <div class=\"colab-df-container\">\n",
              "      <div>\n",
              "<style scoped>\n",
              "    .dataframe tbody tr th:only-of-type {\n",
              "        vertical-align: middle;\n",
              "    }\n",
              "\n",
              "    .dataframe tbody tr th {\n",
              "        vertical-align: top;\n",
              "    }\n",
              "\n",
              "    .dataframe thead th {\n",
              "        text-align: right;\n",
              "    }\n",
              "</style>\n",
              "<table border=\"1\" class=\"dataframe\">\n",
              "  <thead>\n",
              "    <tr style=\"text-align: right;\">\n",
              "      <th></th>\n",
              "      <th>title</th>\n",
              "      <th>director</th>\n",
              "      <th>cast</th>\n",
              "      <th>country</th>\n",
              "      <th>listed_in</th>\n",
              "    </tr>\n",
              "  </thead>\n",
              "  <tbody>\n",
              "    <tr>\n",
              "      <th>0</th>\n",
              "      <td>Psychokinesis</td>\n",
              "      <td>[Sang-ho Yeon]</td>\n",
              "      <td>[Ryu Seung-ryong,  Shim Eun-kyung,  Jung-min P...</td>\n",
              "      <td>[South Korea]</td>\n",
              "      <td>[Action &amp; Adventure,  Comedies,  International...</td>\n",
              "    </tr>\n",
              "    <tr>\n",
              "      <th>1</th>\n",
              "      <td>Steel Rain</td>\n",
              "      <td>[Yang Woo-seok]</td>\n",
              "      <td>[Woo-sung Jung,  Do-won Kwak,  Kap-soo Kim,  W...</td>\n",
              "      <td>[South Korea]</td>\n",
              "      <td>[Action &amp; Adventure,  Dramas,  International M...</td>\n",
              "    </tr>\n",
              "    <tr>\n",
              "      <th>2</th>\n",
              "      <td>Master</td>\n",
              "      <td>[Ui-seok Jo]</td>\n",
              "      <td>[Byung-hun Lee,  Dong-won Gang,  Woo-bin Kim, ...</td>\n",
              "      <td>[South Korea]</td>\n",
              "      <td>[Action &amp; Adventure,  International Movies]</td>\n",
              "    </tr>\n",
              "    <tr>\n",
              "      <th>3</th>\n",
              "      <td>Sol Levante</td>\n",
              "      <td>[Akira Saitoh]</td>\n",
              "      <td>[unknown]</td>\n",
              "      <td>[Japan]</td>\n",
              "      <td>[Action &amp; Adventure,  Anime Features,  Interna...</td>\n",
              "    </tr>\n",
              "    <tr>\n",
              "      <th>4</th>\n",
              "      <td>Abdo Mota</td>\n",
              "      <td>[unknown]</td>\n",
              "      <td>[Mohamed Ramadan]</td>\n",
              "      <td>[Egypt]</td>\n",
              "      <td>[Action &amp; Adventure,  Dramas,  International M...</td>\n",
              "    </tr>\n",
              "  </tbody>\n",
              "</table>\n",
              "</div>\n",
              "      <button class=\"colab-df-convert\" onclick=\"convertToInteractive('df-e27ffca7-c886-4740-b0f2-f141b0e50a77')\"\n",
              "              title=\"Convert this dataframe to an interactive table.\"\n",
              "              style=\"display:none;\">\n",
              "        \n",
              "  <svg xmlns=\"http://www.w3.org/2000/svg\" height=\"24px\"viewBox=\"0 0 24 24\"\n",
              "       width=\"24px\">\n",
              "    <path d=\"M0 0h24v24H0V0z\" fill=\"none\"/>\n",
              "    <path d=\"M18.56 5.44l.94 2.06.94-2.06 2.06-.94-2.06-.94-.94-2.06-.94 2.06-2.06.94zm-11 1L8.5 8.5l.94-2.06 2.06-.94-2.06-.94L8.5 2.5l-.94 2.06-2.06.94zm10 10l.94 2.06.94-2.06 2.06-.94-2.06-.94-.94-2.06-.94 2.06-2.06.94z\"/><path d=\"M17.41 7.96l-1.37-1.37c-.4-.4-.92-.59-1.43-.59-.52 0-1.04.2-1.43.59L10.3 9.45l-7.72 7.72c-.78.78-.78 2.05 0 2.83L4 21.41c.39.39.9.59 1.41.59.51 0 1.02-.2 1.41-.59l7.78-7.78 2.81-2.81c.8-.78.8-2.07 0-2.86zM5.41 20L4 18.59l7.72-7.72 1.47 1.35L5.41 20z\"/>\n",
              "  </svg>\n",
              "      </button>\n",
              "      \n",
              "  <style>\n",
              "    .colab-df-container {\n",
              "      display:flex;\n",
              "      flex-wrap:wrap;\n",
              "      gap: 12px;\n",
              "    }\n",
              "\n",
              "    .colab-df-convert {\n",
              "      background-color: #E8F0FE;\n",
              "      border: none;\n",
              "      border-radius: 50%;\n",
              "      cursor: pointer;\n",
              "      display: none;\n",
              "      fill: #1967D2;\n",
              "      height: 32px;\n",
              "      padding: 0 0 0 0;\n",
              "      width: 32px;\n",
              "    }\n",
              "\n",
              "    .colab-df-convert:hover {\n",
              "      background-color: #E2EBFA;\n",
              "      box-shadow: 0px 1px 2px rgba(60, 64, 67, 0.3), 0px 1px 3px 1px rgba(60, 64, 67, 0.15);\n",
              "      fill: #174EA6;\n",
              "    }\n",
              "\n",
              "    [theme=dark] .colab-df-convert {\n",
              "      background-color: #3B4455;\n",
              "      fill: #D2E3FC;\n",
              "    }\n",
              "\n",
              "    [theme=dark] .colab-df-convert:hover {\n",
              "      background-color: #434B5C;\n",
              "      box-shadow: 0px 1px 3px 1px rgba(0, 0, 0, 0.15);\n",
              "      filter: drop-shadow(0px 1px 2px rgba(0, 0, 0, 0.3));\n",
              "      fill: #FFFFFF;\n",
              "    }\n",
              "  </style>\n",
              "\n",
              "      <script>\n",
              "        const buttonEl =\n",
              "          document.querySelector('#df-e27ffca7-c886-4740-b0f2-f141b0e50a77 button.colab-df-convert');\n",
              "        buttonEl.style.display =\n",
              "          google.colab.kernel.accessAllowed ? 'block' : 'none';\n",
              "\n",
              "        async function convertToInteractive(key) {\n",
              "          const element = document.querySelector('#df-e27ffca7-c886-4740-b0f2-f141b0e50a77');\n",
              "          const dataTable =\n",
              "            await google.colab.kernel.invokeFunction('convertToInteractive',\n",
              "                                                     [key], {});\n",
              "          if (!dataTable) return;\n",
              "\n",
              "          const docLinkHtml = 'Like what you see? Visit the ' +\n",
              "            '<a target=\"_blank\" href=https://colab.research.google.com/notebooks/data_table.ipynb>data table notebook</a>'\n",
              "            + ' to learn more about interactive tables.';\n",
              "          element.innerHTML = '';\n",
              "          dataTable['output_type'] = 'display_data';\n",
              "          await google.colab.output.renderOutput(dataTable, element);\n",
              "          const docLink = document.createElement('div');\n",
              "          docLink.innerHTML = docLinkHtml;\n",
              "          element.appendChild(docLink);\n",
              "        }\n",
              "      </script>\n",
              "    </div>\n",
              "  </div>\n",
              "  "
            ]
          },
          "metadata": {},
          "execution_count": 22
        }
      ],
      "source": [
        "rec = movie_recommendations(title=\"Train to Busan\").reset_index(drop=True)\n",
        "rec[['title', 'director', 'cast', 'country', 'listed_in']]\n"
      ]
    },
    {
      "cell_type": "markdown",
      "metadata": {
        "id": "GermCJfNFq_Y"
      },
      "source": [
        "## Evaluasi"
      ]
    },
    {
      "cell_type": "code",
      "execution_count": null,
      "metadata": {
        "id": "YsWw29tGFq_Z"
      },
      "outputs": [],
      "source": [
        "# Fungsi untuk menghitung presisi\n",
        "def rec_precision(num_relevant_recomendation, num_items_recommended):\n",
        "    return num_relevant_recomendation/num_items_recommended"
      ]
    },
    {
      "cell_type": "code",
      "execution_count": null,
      "metadata": {
        "id": "w1n65B-cFq_Z",
        "outputId": "e86116c1-84a6-40f4-b941-3cbd85f36089",
        "colab": {
          "base_uri": "https://localhost:8080/"
        }
      },
      "outputs": [
        {
          "output_type": "stream",
          "name": "stdout",
          "text": [
            "Precision =  0.6\n"
          ]
        }
      ],
      "source": [
        "precision = rec_precision(3, 5)\n",
        "print('Precision = ', precision)"
      ]
    },
    {
      "cell_type": "code",
      "execution_count": null,
      "metadata": {
        "id": "-IHyUTp-Fq_Z"
      },
      "outputs": [],
      "source": []
    }
  ],
  "metadata": {
    "interpreter": {
      "hash": "bec548f1eaa5f791e61300a57b6bdf324df859493cf8e5c89b07d9effee2d662"
    },
    "kernelspec": {
      "display_name": "Python 3.8.8 64-bit ('base': conda)",
      "name": "python3"
    },
    "language_info": {
      "codemirror_mode": {
        "name": "ipython",
        "version": 3
      },
      "file_extension": ".py",
      "mimetype": "text/x-python",
      "name": "python",
      "nbconvert_exporter": "python",
      "pygments_lexer": "ipython3",
      "version": "3.8.8"
    },
    "orig_nbformat": 4,
    "colab": {
      "provenance": [],
      "include_colab_link": true
    }
  },
  "nbformat": 4,
  "nbformat_minor": 0
}